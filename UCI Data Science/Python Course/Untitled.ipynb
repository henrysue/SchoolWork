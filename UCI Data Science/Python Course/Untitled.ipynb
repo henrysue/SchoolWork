{
 "cells": [
  {
   "cell_type": "code",
   "execution_count": null,
   "metadata": {},
   "outputs": [],
   "source": [
    "my_date_str = '20170817'\n",
    "\n",
    "from datetime import datetime, timedelta\n",
    "\n",
    "def days_15(my_date_str):\n",
    "    dtObj = datetime.strptime(my_date_str,'%Y%m%d')\n",
    "    day = timedelta(days=1)\n",
    "    datelist = [dtObj + day * i for i in range(16)]\n",
    "    return(datelist)\n",
    "result = days_15(my_date_str)\n",
    "print(result)"
   ]
  },
  {
   "cell_type": "code",
   "execution_count": null,
   "metadata": {},
   "outputs": [],
   "source": [
    "from glob import glob\n",
    "import os\n",
    "\n",
    "glob_pattern = 'C:\\\\Users\\\\Henru\\\\Desktop\\\\Python Course\\\\Test\\\\logData_*.txt'\n",
    "\n",
    "def count_files(x):\n",
    "    files = glob(x)\n",
    "    return len(files)\n",
    "num_files = count_files(glob_pattern)\n",
    "print(num_files)"
   ]
  }
 ],
 "metadata": {
  "kernelspec": {
   "display_name": "Python 3",
   "language": "python",
   "name": "python3"
  },
  "language_info": {
   "codemirror_mode": {
    "name": "ipython",
    "version": 3
   },
   "file_extension": ".py",
   "mimetype": "text/x-python",
   "name": "python",
   "nbconvert_exporter": "python",
   "pygments_lexer": "ipython3",
   "version": "3.7.3"
  }
 },
 "nbformat": 4,
 "nbformat_minor": 2
}
