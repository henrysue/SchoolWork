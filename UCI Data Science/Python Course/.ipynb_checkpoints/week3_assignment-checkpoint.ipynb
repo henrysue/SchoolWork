{
 "cells": [
  {
   "cell_type": "code",
   "execution_count": 4,
   "metadata": {},
   "outputs": [
    {
     "name": "stdout",
     "output_type": "stream",
     "text": [
      "0\n",
      "1\n",
      "2\n",
      "3\n",
      "4\n",
      "5\n",
      "6\n",
      "7\n",
      "8\n",
      "9\n"
     ]
    }
   ],
   "source": [
    "for var in range(10):\n",
    "    print(var)"
   ]
  },
  {
   "cell_type": "code",
   "execution_count": 8,
   "metadata": {},
   "outputs": [
    {
     "name": "stdout",
     "output_type": "stream",
     "text": [
      "0\n",
      "Zero\n",
      "1\n",
      "Odd\n",
      "2\n",
      "Even\n",
      "3\n",
      "Odd\n",
      "4\n",
      "Even\n",
      "5\n",
      "Odd\n",
      "6\n",
      "Even\n",
      "7\n",
      "Odd\n",
      "8\n",
      "Even\n",
      "9\n",
      "Odd\n"
     ]
    }
   ],
   "source": [
    "for x in range(10):\n",
    "    print(x)\n",
    "    if x == 0:\n",
    "        print('Zero')\n",
    "    elif x%2 == 0:\n",
    "        print('Even')\n",
    "    else:\n",
    "        print('Odd')"
   ]
  },
  {
   "cell_type": "code",
   "execution_count": 10,
   "metadata": {},
   "outputs": [
    {
     "name": "stdout",
     "output_type": "stream",
     "text": [
      "109.8756733000781\n"
     ]
    }
   ],
   "source": [
    "myVar = 2.0\n",
    "while myVar < 100:\n",
    "    myVar = myVar * 1.65\n",
    "else: \n",
    "    print(myVar)"
   ]
  }
 ],
 "metadata": {
  "kernelspec": {
   "display_name": "Python 3",
   "language": "python",
   "name": "python3"
  },
  "language_info": {
   "codemirror_mode": {
    "name": "ipython",
    "version": 3
   },
   "file_extension": ".py",
   "mimetype": "text/x-python",
   "name": "python",
   "nbconvert_exporter": "python",
   "pygments_lexer": "ipython3",
   "version": "3.7.3"
  }
 },
 "nbformat": 4,
 "nbformat_minor": 2
}
