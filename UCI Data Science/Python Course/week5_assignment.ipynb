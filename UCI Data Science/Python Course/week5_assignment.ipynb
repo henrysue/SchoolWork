{
 "cells": [
  {
   "cell_type": "code",
   "execution_count": null,
   "metadata": {},
   "outputs": [],
   "source": [
    "my_word_list = ['apple', 'orange', 'banana']\n",
    "my_new_word_list = list(map(lambda x: '_' + x, my_word_list))\n",
    "print(my_new_word_list)"
   ]
  },
  {
   "cell_type": "code",
   "execution_count": null,
   "metadata": {},
   "outputs": [],
   "source": [
    "my_state_list = ['CA','OR','NY','OR']\n",
    "my_new_state_list = list(filter(lambda x: x in ['CA', 'NY'],my_state_list))\n",
    "print(my_new_state_list)"
   ]
  },
  {
   "cell_type": "code",
   "execution_count": null,
   "metadata": {},
   "outputs": [],
   "source": [
    "my_number_list = [1,2,3,4,5]\n",
    "my_new_number_list = [x * 3 for x in my_number_list]\n",
    "print(my_new_number_list)"
   ]
  },
  {
   "cell_type": "code",
   "execution_count": null,
   "metadata": {},
   "outputs": [],
   "source": [
    "list_of_words = ['love', 'the', 'outdoors', 'with', 'passion']\n",
    "wordsToRemove = ['the','with','of','a']\n",
    "new_words_list = [x for x in list_of_words if x not in wordsToRemove]\n",
    "print(new_words_list)"
   ]
  }
 ],
 "metadata": {
  "kernelspec": {
   "display_name": "Python 3",
   "language": "python",
   "name": "python3"
  },
  "language_info": {
   "codemirror_mode": {
    "name": "ipython",
    "version": 3
   },
   "file_extension": ".py",
   "mimetype": "text/x-python",
   "name": "python",
   "nbconvert_exporter": "python",
   "pygments_lexer": "ipython3",
   "version": "3.7.3"
  }
 },
 "nbformat": 4,
 "nbformat_minor": 2
}
