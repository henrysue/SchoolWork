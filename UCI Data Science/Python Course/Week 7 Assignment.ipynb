{
 "cells": [
  {
   "cell_type": "code",
   "execution_count": null,
   "metadata": {},
   "outputs": [],
   "source": [
    "def file_length(filepath):\n",
    "    with open(filepath, 'r') as f:\n",
    "        count = 0\n",
    "        for line in f: \n",
    "            count = count + 1\n",
    "    return(count)    \n",
    "\n",
    "file_length(filepath)\n"
   ]
  },
  {
   "cell_type": "code",
   "execution_count": null,
   "metadata": {},
   "outputs": [],
   "source": [
    "def parse_data(filepath):\n",
    "    with open(filepath, 'r') as data:\n",
    "        for line in data:\n",
    "            ls = line.strip()\n",
    "            station = ls[0:8]\n",
    "            temp = ls[8:11]\n",
    "            relhum = ls[11:13]\n",
    "            print(station, temp, relhum)\n",
    "            \n",
    "parse_data(filepath)"
   ]
  },
  {
   "cell_type": "code",
   "execution_count": null,
   "metadata": {},
   "outputs": [],
   "source": [
    "def write_to_file(filepath,lines):\n",
    "    with open(filepath,'w+') as f:\n",
    "        for i in lines:\n",
    "            f.write(i+'\\n')\n",
    "        \n",
    "write_to_file(filepath, lines)    "
   ]
  }
 ],
 "metadata": {
  "kernelspec": {
   "display_name": "Python 3",
   "language": "python",
   "name": "python3"
  },
  "language_info": {
   "codemirror_mode": {
    "name": "ipython",
    "version": 3
   },
   "file_extension": ".py",
   "mimetype": "text/x-python",
   "name": "python",
   "nbconvert_exporter": "python",
   "pygments_lexer": "ipython3",
   "version": "3.7.3"
  }
 },
 "nbformat": 4,
 "nbformat_minor": 2
}
