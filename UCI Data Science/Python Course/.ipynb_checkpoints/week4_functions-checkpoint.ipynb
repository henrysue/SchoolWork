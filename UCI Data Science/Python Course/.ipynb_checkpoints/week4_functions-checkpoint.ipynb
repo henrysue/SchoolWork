{
 "cells": [
  {
   "cell_type": "code",
   "execution_count": null,
   "metadata": {},
   "outputs": [],
   "source": [
    "def multiply_numbers(tuple_of_numbers):\n",
    "    total = 1\n",
    "    for i in tuple_of_numbers:\n",
    "        total = i * total\n",
    "    return(total)"
   ]
  },
  {
   "cell_type": "code",
   "execution_count": null,
   "metadata": {},
   "outputs": [],
   "source": [
    "def filter_list(string_list, string):\n",
    "    filtered_string = []\n",
    "    for i in string_list:\n",
    "        if i != string:\n",
    "            filtered_string.append(i)\n",
    "    return(filtered_string)"
   ]
  },
  {
   "cell_type": "code",
   "execution_count": null,
   "metadata": {},
   "outputs": [],
   "source": [
    "def longest_word(list_of_words):\n",
    "    for i in list_of_words:\n",
    "        longestlength = 0\n",
    "        longword = 0\n",
    "        if len(i) > longestlength:\n",
    "            longestlength = len(i)\n",
    "            longword = i\n",
    "    return(longword)"
   ]
  },
  {
   "cell_type": "code",
   "execution_count": null,
   "metadata": {},
   "outputs": [],
   "source": [
    "def list_to_unique(input_list):\n",
    "    uniquelist = []\n",
    "    for i in input_list:\n",
    "        if i not in uniquelist:\n",
    "                uniquelist.append(i)\n",
    "    return(uniquelist)"
   ]
  }
 ],
 "metadata": {
  "kernelspec": {
   "display_name": "Python 3",
   "language": "python",
   "name": "python3"
  },
  "language_info": {
   "codemirror_mode": {
    "name": "ipython",
    "version": 3
   },
   "file_extension": ".py",
   "mimetype": "text/x-python",
   "name": "python",
   "nbconvert_exporter": "python",
   "pygments_lexer": "ipython3",
   "version": "3.7.3"
  }
 },
 "nbformat": 4,
 "nbformat_minor": 2
}
